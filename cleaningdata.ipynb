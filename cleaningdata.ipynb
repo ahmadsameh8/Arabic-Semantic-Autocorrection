{
  "nbformat": 4,
  "nbformat_minor": 0,
  "metadata": {
    "colab": {
      "private_outputs": true,
      "provenance": []
    },
    "kernelspec": {
      "name": "python3",
      "display_name": "Python 3"
    },
    "language_info": {
      "name": "python"
    }
  },
  "cells": [
    {
      "cell_type": "code",
      "execution_count": null,
      "metadata": {
        "id": "v4E1yJnEG_hZ"
      },
      "outputs": [],
      "source": [
        "filename = '/content/nlpsent.txt'\n",
        "file = open(filename,'rt')\n",
        "text = file.read()\n",
        "file.close()\n",
        "import re\n",
        "text = re.sub('([@A-Za-z0-9_ـــــــــــــ]+)|[^\\w\\s]|#|http\\S+', '', text) # cleaning up\n",
        "with open('sent.txt', 'w') as f:\n",
        "\t\tf.write(text)"
      ]
    }
  ]
}